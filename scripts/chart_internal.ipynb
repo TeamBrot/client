{
 "cells": [
  {
   "cell_type": "code",
   "execution_count": 9,
   "metadata": {},
   "outputs": [],
   "source": [
    "import numpy as np\n",
    "import matplotlib.pyplot as plt\n",
    "%matplotlib inline"
   ]
  },
  {
   "cell_type": "code",
   "execution_count": 10,
   "metadata": {},
   "outputs": [],
   "source": [
    "total_minimax_games = 100\n",
    "minimax_wins = 13\n",
    "combi_minimax_wins = 87\n",
    "\n",
    "total_rollouts_games = 117\n",
    "rollouts_wins = 33\n",
    "combi_rollouts_wins = 75\n",
    "\n",
    "total_smart_games = 103\n",
    "smart_wins = 2\n",
    "combi_smart_wins = 101\n",
    "\n",
    "total_probability_games = 92\n",
    "probability_wins = 4\n",
    "combi_probability_wins = 87\n",
    "\n",
    "labels = [\"minimax\", \"rollouts\", \"basic\", \"probability\"]\n",
    "\n",
    "\n",
    "data = [[combi_minimax_wins / total_minimax_games, combi_rollouts_wins / total_rollouts_games, combi_smart_wins/total_smart_games, combi_probability_wins/total_probability_games],\n",
    "        [minimax_wins / total_minimax_games, rollouts_wins / total_rollouts_games, smart_wins/total_smart_games, probability_wins/total_probability_games]]"
   ]
  },
  {
   "cell_type": "code",
   "execution_count": 22,
   "metadata": {},
   "outputs": [
    {
     "data": {
      "text/plain": [
       "<matplotlib.legend.Legend at 0x7f24745cac70>"
      ]
     },
     "execution_count": 22,
     "metadata": {},
     "output_type": "execute_result"
    },
    {
     "data": {
      "image/png": "[encoded data removed]",
      "text/plain": [
       "<Figure size 432x288 with 1 Axes>"
      ]
     },
     "metadata": {
      "needs_background": "light"
     },
     "output_type": "display_data"
    }
   ],
   "source": [
    "fig = plt.figure()\n",
    "ax = fig.add_axes([0,0,1,1])\n",
    "X = np.arange(len(labels)) + 0.2\n",
    "\n",
    "ax.bar(X + 0.00, data[0], width = 0.4, label=\"Combi\")\n",
    "ax.bar(X + 0.4, data[1], width = 0.4, label=\"Client\")\n",
    "plt.tick_params(\n",
    "    axis='x',\n",
    "    which='both',\n",
    "    bottom=False,\n",
    "    top=False,\n",
    "    labelbottom=True)\n",
    "\n",
    "\n",
    "ax.set_xticks(np.arange(len(labels))+0.4)\n",
    "ax.set_xticklabels(labels)\n",
    "ax.set_ylabel(\"Gewinnrate\")\n",
    "ax.set_xlabel(\"Client\")\n",
    "ax.legend()"
   ]
  },
  {
   "cell_type": "code",
   "execution_count": 23,
   "metadata": {},
   "outputs": [],
   "source": [
    "fig.savefig(\"chart_internal_testing.svg\")"
   ]
  },
  {
   "cell_type": "code",
   "execution_count": null,
   "metadata": {},
   "outputs": [],
   "source": []
  }
 ],
 "metadata": {
  "kernelspec": {
   "display_name": "Python 3",
   "language": "python",
   "name": "python3"
  },
  "language_info": {
   "codemirror_mode": {
    "name": "ipython",
    "version": 3
   },
   "file_extension": ".py",
   "mimetype": "text/x-python",
   "name": "python",
   "nbconvert_exporter": "python",
   "pygments_lexer": "ipython3",
   "version": "3.9.1"
  }
 },
 "nbformat": 4,
 "nbformat_minor": 4
}
