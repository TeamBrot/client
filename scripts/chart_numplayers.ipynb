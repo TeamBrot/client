{
 "cells": [
  {
   "cell_type": "code",
   "execution_count": 10,
   "metadata": {},
   "outputs": [],
   "source": [
    "import numpy as np\n",
    "import matplotlib.pyplot as plt\n",
    "from stats import get_results, get_games_by_num_players"
   ]
  },
  {
   "cell_type": "code",
   "execution_count": 6,
   "metadata": {},
   "outputs": [
    {
     "name": "stdout",
     "output_type": "stream",
     "text": [
      "reading /home/richard/spe_ed_log/logs/api/sinnvoll/1610288338-combi-1.json\n",
      "reading /home/richard/spe_ed_log/logs/api/sinnvoll/1610295446-combi-5.json\n",
      "reading /home/richard/spe_ed_log/logs/api/sinnvoll/1610309035-combi-1.json\n",
      "reading /home/richard/spe_ed_log/logs/api/sinnvoll/1610309296-combi-5.json\n",
      "reading /home/richard/spe_ed_log/logs/api/sinnvoll/1610312307-combi-4.json\n",
      "reading /home/richard/spe_ed_log/logs/api/sinnvoll/1610318873-combi-2.json\n",
      "reading /home/richard/spe_ed_log/logs/api/sinnvoll/1610321647-combi-4.json\n",
      "reading /home/richard/spe_ed_log/logs/api/sinnvoll/1610330096-combi-2.json\n",
      "reading /home/richard/spe_ed_log/logs/api/sinnvoll/1610332823-combi-2.json\n",
      "reading /home/richard/spe_ed_log/logs/api/sinnvoll/1610336498-combi-1.json\n",
      "reading /home/richard/spe_ed_log/logs/api/sinnvoll/1610340619-combi-1.json\n",
      "reading /home/richard/spe_ed_log/logs/api/sinnvoll/1610346459-combi-2.json\n",
      "reading /home/richard/spe_ed_log/logs/api/sinnvoll/1610356160-combi-4.json\n",
      "reading /home/richard/spe_ed_log/logs/api/sinnvoll/1610358349-combi-3.json\n",
      "reading /home/richard/spe_ed_log/logs/api/sinnvoll/1610361430-combi-1.json\n",
      "reading /home/richard/spe_ed_log/logs/api/sinnvoll/1610366091-combi-3.json\n",
      "reading /home/richard/spe_ed_log/logs/api/sinnvoll/1610371386-combi-6.json\n",
      "reading /home/richard/spe_ed_log/logs/api/sinnvoll/1610380828-combi-2.json\n",
      "reading /home/richard/spe_ed_log/logs/api/sinnvoll/1610385665-combi-1.json\n",
      "reading /home/richard/spe_ed_log/logs/api/sinnvoll/1610387397-combi-2.json\n",
      "reading /home/richard/spe_ed_log/logs/api/sinnvoll/1610390491-combi-2.json\n",
      "reading /home/richard/spe_ed_log/logs/api/sinnvoll/1610400119-combi-2.json\n",
      "reading /home/richard/spe_ed_log/logs/api/sinnvoll/1610409304-combi-4.json\n",
      "reading /home/richard/spe_ed_log/logs/api/sinnvoll/1610438476-combi-1.json\n",
      "reading /home/richard/spe_ed_log/logs/api/sinnvoll/1610442921-combi-1.json\n",
      "reading /home/richard/spe_ed_log/logs/api/sinnvoll/1610443977-combi-1.json\n",
      "reading /home/richard/spe_ed_log/logs/api/sinnvoll/1610475805-combi-1.json\n",
      "reading /home/richard/spe_ed_log/logs/api/sinnvoll/1610478731-combi-4.json\n",
      "reading /home/richard/spe_ed_log/logs/api/sinnvoll/1610479847-combi-2.json\n",
      "reading /home/richard/spe_ed_log/logs/api/sinnvoll/1610485638-combi-3.json\n",
      "reading /home/richard/spe_ed_log/logs/api/sinnvoll/1610490172-combi-1.json\n",
      "reading /home/richard/spe_ed_log/logs/api/sinnvoll/1610492172-combi-1.json\n",
      "reading /home/richard/spe_ed_log/logs/api/sinnvoll/1610495209-combi-1.json\n",
      "reading /home/richard/spe_ed_log/logs/api/sinnvoll/1610498663-combi-2.json\n",
      "reading /home/richard/spe_ed_log/logs/api/sinnvoll/1610501637-combi-1.json\n",
      "reading /home/richard/spe_ed_log/logs/api/sinnvoll/1610504907-combi-2.json\n",
      "reading /home/richard/spe_ed_log/logs/api/sinnvoll/1610507307-combi-2.json\n",
      "reading /home/richard/spe_ed_log/logs/api/sinnvoll/1610508709-combi-3.json\n",
      "reading /home/richard/spe_ed_log/logs/api/sinnvoll/1610518157-combi-1.json\n",
      "reading /home/richard/spe_ed_log/logs/api/sinnvoll/1610520694-combi-2.json\n",
      "reading /home/richard/spe_ed_log/logs/api/sinnvoll/1610525997-combi-1.json\n",
      "reading /home/richard/spe_ed_log/logs/api/sinnvoll/1610530099-combi-1.json\n",
      "reading /home/richard/spe_ed_log/logs/api/sinnvoll/1610534296-combi-1.json\n",
      "reading /home/richard/spe_ed_log/logs/api/sinnvoll/1610539584-combi-1.json\n",
      "reading /home/richard/spe_ed_log/logs/api/sinnvoll/1610543605-combi-1.json\n",
      "reading /home/richard/spe_ed_log/logs/api/sinnvoll/1610551948-combi-2.json\n",
      "reading /home/richard/spe_ed_log/logs/api/sinnvoll/1610552402-combi-1.json\n",
      "reading /home/richard/spe_ed_log/logs/api/sinnvoll/1610554588-combi-2.json\n",
      "reading /home/richard/spe_ed_log/logs/api/sinnvoll/1610558957-combi-3.json\n",
      "reading /home/richard/spe_ed_log/logs/api/sinnvoll/1610563141-combi-2.json\n",
      "reading /home/richard/spe_ed_log/logs/api/sinnvoll/1610565583-combi-3.json\n",
      "reading /home/richard/spe_ed_log/logs/api/sinnvoll/1610567610-combi-2.json\n",
      "reading /home/richard/spe_ed_log/logs/api/sinnvoll/1610569198-combi-2.json\n",
      "reading /home/richard/spe_ed_log/logs/api/sinnvoll/1610571409-combi-3.json\n",
      "reading /home/richard/spe_ed_log/logs/api/sinnvoll/1610613660-combi-1.json\n",
      "reading /home/richard/spe_ed_log/logs/api/sinnvoll/1610615612-combi-1.json\n",
      "reading /home/richard/spe_ed_log/logs/api/sinnvoll/1610617876-combi-2.json\n",
      "reading /home/richard/spe_ed_log/logs/api/sinnvoll/1610618265-combi-1.json\n",
      "reading /home/richard/spe_ed_log/logs/api/sinnvoll/1610623287-combi-2.json\n",
      "reading /home/richard/spe_ed_log/logs/api/sinnvoll/1610626057-combi-2.json\n",
      "reading /home/richard/spe_ed_log/logs/api/sinnvoll/1610634965-combi-4.json\n",
      "reading /home/richard/spe_ed_log/logs/api/sinnvoll/1610636900-combi-3.json\n",
      "reading /home/richard/spe_ed_log/logs/api/sinnvoll/1610640635-combi-5.json\n",
      "reading /home/richard/spe_ed_log/logs/api/sinnvoll/1610645295-combi-2.json\n",
      "reading /home/richard/spe_ed_log/logs/api/sinnvoll/1610649281-combi-3.json\n",
      "reading /home/richard/spe_ed_log/logs/api/sinnvoll/1610654583-combi-3.json\n",
      "reading /home/richard/spe_ed_log/logs/api/sinnvoll/1610657762-combi-1.json\n",
      "reading /home/richard/spe_ed_log/logs/api/sinnvoll/1610663620-combi-2.json\n",
      "reading /home/richard/spe_ed_log/logs/api/sinnvoll/1610668611-combi-1.json\n",
      "reading /home/richard/spe_ed_log/logs/api/sinnvoll/1610671156-combi-3.json\n",
      "reading /home/richard/spe_ed_log/logs/api/sinnvoll/1610674872-combi-3.json\n",
      "reading /home/richard/spe_ed_log/logs/api/sinnvoll/1610679274-combi-2.json\n",
      "reading /home/richard/spe_ed_log/logs/api/sinnvoll/1610682151-combi-4.json\n",
      "reading /home/richard/spe_ed_log/logs/api/sinnvoll/1610685365-combi-3.json\n",
      "reading /home/richard/spe_ed_log/logs/api/sinnvoll/1610688821-combi-1.json\n",
      "reading /home/richard/spe_ed_log/logs/api/sinnvoll/1610694420-combi-2.json\n",
      "reading /home/richard/spe_ed_log/logs/api/sinnvoll/1610704354-combi-1.json\n",
      "reading /home/richard/spe_ed_log/logs/api/sinnvoll/1610705492-combi-3.json\n",
      "reading /home/richard/spe_ed_log/logs/api/sinnvoll/1610713806-combi-3.json\n",
      "reading /home/richard/spe_ed_log/logs/api/sinnvoll/1610720679-combi-4.json\n"
     ]
    }
   ],
   "source": [
    "files = [ \n",
    "    \"/home/richard/spe_ed_log/logs/api/sinnvoll/1610288338-combi-1.json\",\n",
    "    \"/home/richard/spe_ed_log/logs/api/sinnvoll/1610295446-combi-5.json\",\n",
    "    \"/home/richard/spe_ed_log/logs/api/sinnvoll/1610309035-combi-1.json\",\n",
    "    \"/home/richard/spe_ed_log/logs/api/sinnvoll/1610309296-combi-5.json\",\n",
    "    \"/home/richard/spe_ed_log/logs/api/sinnvoll/1610312307-combi-4.json\",\n",
    "    \"/home/richard/spe_ed_log/logs/api/sinnvoll/1610318873-combi-2.json\",\n",
    "    \"/home/richard/spe_ed_log/logs/api/sinnvoll/1610321647-combi-4.json\",\n",
    "    \"/home/richard/spe_ed_log/logs/api/sinnvoll/1610330096-combi-2.json\",\n",
    "    \"/home/richard/spe_ed_log/logs/api/sinnvoll/1610332823-combi-2.json\",\n",
    "    \"/home/richard/spe_ed_log/logs/api/sinnvoll/1610336498-combi-1.json\",\n",
    "    \"/home/richard/spe_ed_log/logs/api/sinnvoll/1610340619-combi-1.json\",\n",
    "    \"/home/richard/spe_ed_log/logs/api/sinnvoll/1610346459-combi-2.json\",\n",
    "    \"/home/richard/spe_ed_log/logs/api/sinnvoll/1610356160-combi-4.json\",\n",
    "    \"/home/richard/spe_ed_log/logs/api/sinnvoll/1610358349-combi-3.json\",\n",
    "    \"/home/richard/spe_ed_log/logs/api/sinnvoll/1610361430-combi-1.json\",\n",
    "    \"/home/richard/spe_ed_log/logs/api/sinnvoll/1610366091-combi-3.json\",\n",
    "    \"/home/richard/spe_ed_log/logs/api/sinnvoll/1610371386-combi-6.json\",\n",
    "    \"/home/richard/spe_ed_log/logs/api/sinnvoll/1610380828-combi-2.json\",\n",
    "    \"/home/richard/spe_ed_log/logs/api/sinnvoll/1610385665-combi-1.json\",\n",
    "    \"/home/richard/spe_ed_log/logs/api/sinnvoll/1610387397-combi-2.json\",\n",
    "    \"/home/richard/spe_ed_log/logs/api/sinnvoll/1610390491-combi-2.json\",\n",
    "    \"/home/richard/spe_ed_log/logs/api/sinnvoll/1610400119-combi-2.json\",\n",
    "    \"/home/richard/spe_ed_log/logs/api/sinnvoll/1610409304-combi-4.json\",\n",
    "    \"/home/richard/spe_ed_log/logs/api/sinnvoll/1610438476-combi-1.json\",\n",
    "    \"/home/richard/spe_ed_log/logs/api/sinnvoll/1610442921-combi-1.json\",\n",
    "    \"/home/richard/spe_ed_log/logs/api/sinnvoll/1610443977-combi-1.json\",\n",
    "    \"/home/richard/spe_ed_log/logs/api/sinnvoll/1610475805-combi-1.json\",\n",
    "    \"/home/richard/spe_ed_log/logs/api/sinnvoll/1610478731-combi-4.json\",\n",
    "    \"/home/richard/spe_ed_log/logs/api/sinnvoll/1610479847-combi-2.json\",\n",
    "    \"/home/richard/spe_ed_log/logs/api/sinnvoll/1610485638-combi-3.json\",\n",
    "    \"/home/richard/spe_ed_log/logs/api/sinnvoll/1610490172-combi-1.json\",\n",
    "    \"/home/richard/spe_ed_log/logs/api/sinnvoll/1610492172-combi-1.json\",\n",
    "    \"/home/richard/spe_ed_log/logs/api/sinnvoll/1610495209-combi-1.json\",\n",
    "    \"/home/richard/spe_ed_log/logs/api/sinnvoll/1610498663-combi-2.json\",\n",
    "    \"/home/richard/spe_ed_log/logs/api/sinnvoll/1610501637-combi-1.json\",\n",
    "    \"/home/richard/spe_ed_log/logs/api/sinnvoll/1610504907-combi-2.json\",\n",
    "    \"/home/richard/spe_ed_log/logs/api/sinnvoll/1610507307-combi-2.json\",\n",
    "    \"/home/richard/spe_ed_log/logs/api/sinnvoll/1610508709-combi-3.json\",\n",
    "    \"/home/richard/spe_ed_log/logs/api/sinnvoll/1610518157-combi-1.json\",\n",
    "    \"/home/richard/spe_ed_log/logs/api/sinnvoll/1610520694-combi-2.json\",\n",
    "    \"/home/richard/spe_ed_log/logs/api/sinnvoll/1610525997-combi-1.json\",\n",
    "    \"/home/richard/spe_ed_log/logs/api/sinnvoll/1610530099-combi-1.json\",\n",
    "    \"/home/richard/spe_ed_log/logs/api/sinnvoll/1610534296-combi-1.json\",\n",
    "    \"/home/richard/spe_ed_log/logs/api/sinnvoll/1610539584-combi-1.json\",\n",
    "    \"/home/richard/spe_ed_log/logs/api/sinnvoll/1610543605-combi-1.json\",\n",
    "    \"/home/richard/spe_ed_log/logs/api/sinnvoll/1610551948-combi-2.json\",\n",
    "    \"/home/richard/spe_ed_log/logs/api/sinnvoll/1610552402-combi-1.json\",\n",
    "    \"/home/richard/spe_ed_log/logs/api/sinnvoll/1610554588-combi-2.json\",\n",
    "    \"/home/richard/spe_ed_log/logs/api/sinnvoll/1610558957-combi-3.json\",\n",
    "    \"/home/richard/spe_ed_log/logs/api/sinnvoll/1610563141-combi-2.json\",\n",
    "    \"/home/richard/spe_ed_log/logs/api/sinnvoll/1610565583-combi-3.json\",\n",
    "    \"/home/richard/spe_ed_log/logs/api/sinnvoll/1610567610-combi-2.json\",\n",
    "    \"/home/richard/spe_ed_log/logs/api/sinnvoll/1610569198-combi-2.json\",\n",
    "    \"/home/richard/spe_ed_log/logs/api/sinnvoll/1610571409-combi-3.json\",\n",
    "    \"/home/richard/spe_ed_log/logs/api/sinnvoll/1610613660-combi-1.json\",\n",
    "    \"/home/richard/spe_ed_log/logs/api/sinnvoll/1610615612-combi-1.json\",\n",
    "    \"/home/richard/spe_ed_log/logs/api/sinnvoll/1610617876-combi-2.json\",\n",
    "    \"/home/richard/spe_ed_log/logs/api/sinnvoll/1610618265-combi-1.json\",\n",
    "    \"/home/richard/spe_ed_log/logs/api/sinnvoll/1610623287-combi-2.json\",\n",
    "    \"/home/richard/spe_ed_log/logs/api/sinnvoll/1610626057-combi-2.json\",\n",
    "    \"/home/richard/spe_ed_log/logs/api/sinnvoll/1610634965-combi-4.json\",\n",
    "    \"/home/richard/spe_ed_log/logs/api/sinnvoll/1610636900-combi-3.json\",\n",
    "    \"/home/richard/spe_ed_log/logs/api/sinnvoll/1610640635-combi-5.json\",\n",
    "    \"/home/richard/spe_ed_log/logs/api/sinnvoll/1610645295-combi-2.json\",\n",
    "    \"/home/richard/spe_ed_log/logs/api/sinnvoll/1610649281-combi-3.json\",\n",
    "    \"/home/richard/spe_ed_log/logs/api/sinnvoll/1610654583-combi-3.json\",\n",
    "    \"/home/richard/spe_ed_log/logs/api/sinnvoll/1610657762-combi-1.json\",\n",
    "    \"/home/richard/spe_ed_log/logs/api/sinnvoll/1610663620-combi-2.json\",\n",
    "    \"/home/richard/spe_ed_log/logs/api/sinnvoll/1610668611-combi-1.json\",\n",
    "    \"/home/richard/spe_ed_log/logs/api/sinnvoll/1610671156-combi-3.json\",\n",
    "    \"/home/richard/spe_ed_log/logs/api/sinnvoll/1610674872-combi-3.json\",\n",
    "    \"/home/richard/spe_ed_log/logs/api/sinnvoll/1610679274-combi-2.json\",\n",
    "    \"/home/richard/spe_ed_log/logs/api/sinnvoll/1610682151-combi-4.json\",\n",
    "    \"/home/richard/spe_ed_log/logs/api/sinnvoll/1610685365-combi-3.json\",\n",
    "    \"/home/richard/spe_ed_log/logs/api/sinnvoll/1610688821-combi-1.json\",\n",
    "    \"/home/richard/spe_ed_log/logs/api/sinnvoll/1610694420-combi-2.json\",\n",
    "    \"/home/richard/spe_ed_log/logs/api/sinnvoll/1610704354-combi-1.json\",\n",
    "    \"/home/richard/spe_ed_log/logs/api/sinnvoll/1610705492-combi-3.json\",\n",
    "    \"/home/richard/spe_ed_log/logs/api/sinnvoll/1610713806-combi-3.json\",\n",
    "    \"/home/richard/spe_ed_log/logs/api/sinnvoll/1610720679-combi-4.json\"\n",
    "]\n",
    "\n",
    "results = get_results(files)"
   ]
  },
  {
   "cell_type": "code",
   "execution_count": 15,
   "metadata": {},
   "outputs": [
    {
     "name": "stdout",
     "output_type": "stream",
     "text": [
      "defaultdict(<class 'int'>, {3: 13, 5: 23, 6: 13, 4: 11, 2: 4})\n",
      "{6: 0.6842105263157895, 5: 0.8518518518518519, 3: 0.8125, 4: 0.8461538461538461, 2: 0.8}\n"
     ]
    }
   ],
   "source": [
    "num, num_won, ratios = get_games_by_num_players(results)\n",
    "print(num_won)\n",
    "print(ratios)"
   ]
  },
  {
   "cell_type": "code",
   "execution_count": 44,
   "metadata": {},
   "outputs": [
    {
     "data": {
      "text/plain": [
       "<BarContainer object of 5 artists>"
      ]
     },
     "execution_count": 44,
     "metadata": {},
     "output_type": "execute_result"
    },
    {
     "data": {
      "text/plain": [
       "<Figure size 1.512e+06x432 with 0 Axes>"
      ]
     },
     "metadata": {},
     "output_type": "display_data"
    },
    {
     "data": {
      "image/png": "[encoded data removed]",
      "text/plain": [
       "<Figure size 921.6x345.6 with 2 Axes>"
      ]
     },
     "metadata": {
      "needs_background": "light"
     },
     "output_type": "display_data"
    }
   ],
   "source": [
    "x = np.arange(len(num)) + 0.5\n",
    "y_won = list(map(lambda x: x[1], sorted(num_won.items())))\n",
    "y_total = list(map(lambda x: x[1], sorted(num.items())))\n",
    "y_ratios = list(map(lambda x: x[1], sorted(ratios.items())))\n",
    "\n",
    "fig = plt.figure()\n",
    "fig.set_size_inches(21000, 6)\n",
    "fig, (ax1, ax2) = plt.subplots(1, 2, figsize=(12.8,4.8))\n",
    "ax1.set_xlabel(\"Anzahl an Spielern\")\n",
    "ax1.set_xticks(x)\n",
    "ax1.set_xticklabels(sorted(num.keys()))\n",
    "ax1.set_ylabel(\"Häufigkeit\")\n",
    "\n",
    "ax1.bar(x, y_total, width=0.5, label=\"alle Spiele\")\n",
    "ax1.bar(x, y_won, width=0.5, label=\"davon gewonnene Spiele\")\n",
    "\n",
    "ax1.legend()\n",
    "\n",
    "ax2.set_xlabel(\"Anzahl an Spielern\")\n",
    "ax2.set_xticks(x)\n",
    "ax2.set_xticklabels(sorted(num.keys()))\n",
    "ax2.set_xlabel(\"Anzahl an Spielern\")\n",
    "ax2.set_ylabel(\"Gewinnrate\")\n",
    "ax2.bar(x, y_ratios, width=0.5)\n"
   ]
  },
  {
   "cell_type": "code",
   "execution_count": 46,
   "metadata": {},
   "outputs": [],
   "source": [
    "fig.savefig(\"chart_success_by_num_players.svg\", bbox_inches='tight')"
   ]
  },
  {
   "cell_type": "code",
   "execution_count": null,
   "metadata": {},
   "outputs": [],
   "source": []
  }
 ],
 "metadata": {
  "kernelspec": {
   "display_name": "Python 3",
   "language": "python",
   "name": "python3"
  },
  "language_info": {
   "codemirror_mode": {
    "name": "ipython",
    "version": 3
   },
   "file_extension": ".py",
   "mimetype": "text/x-python",
   "name": "python",
   "nbconvert_exporter": "python",
   "pygments_lexer": "ipython3",
   "version": "3.9.1"
  }
 },
 "nbformat": 4,
 "nbformat_minor": 4
}
